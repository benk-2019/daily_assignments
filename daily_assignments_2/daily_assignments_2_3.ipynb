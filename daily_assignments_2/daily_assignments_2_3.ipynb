{
 "cells": [
  {
   "cell_type": "code",
   "execution_count": 1,
   "metadata": {},
   "outputs": [
    {
     "name": "stdout",
     "output_type": "stream",
     "text": [
      "852\n"
     ]
    }
   ],
   "source": [
    "import re\n",
    "\n",
    "with open(file=\"./Pride_and_Prejudice.txt\", mode = 'rt', encoding = 'utf-8') as f:\n",
    "    lines = f.readlines()\n",
    "\n",
    "lines_ch1=lines[167:289]\n",
    "sum = 0\n",
    "for scentence in lines_ch1[2:]:\n",
    "    sum += len(re.findall(r\"\\w+\", scentence))\n",
    "\n",
    "print(sum)"
   ]
  }
 ],
 "metadata": {
  "kernelspec": {
   "display_name": "Python 3",
   "language": "python",
   "name": "python3"
  },
  "language_info": {
   "codemirror_mode": {
    "name": "ipython",
    "version": 3
   },
   "file_extension": ".py",
   "mimetype": "text/x-python",
   "name": "python",
   "nbconvert_exporter": "python",
   "pygments_lexer": "ipython3",
   "version": "3.12.4"
  }
 },
 "nbformat": 4,
 "nbformat_minor": 2
}

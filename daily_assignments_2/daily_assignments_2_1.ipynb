{
 "cells": [
  {
   "cell_type": "code",
   "execution_count": 16,
   "metadata": {},
   "outputs": [
    {
     "name": "stdout",
     "output_type": "stream",
     "text": [
      "True\n",
      "True\n",
      "True\n",
      "False\n",
      "True\n"
     ]
    }
   ],
   "source": [
    "import re\n",
    "\n",
    "string_validation = input(\"Put in something: \")\n",
    "\n",
    "match1 = re.findall(r\"[a-zA-Z0-9]+\", string_validation)\n",
    "print(len(match1)>0)\n",
    "\n",
    "match2 = re.findall(r\"[a-zA-Z]+\", string_validation)\n",
    "print(len(match2)>0)\n",
    "\n",
    "match3 = re.findall(r\"[0-9]+\", string_validation)\n",
    "print(len(match3)>0)\n",
    "\n",
    "match4 = re.findall(r\"[a-z]+\", string_validation)\n",
    "print(len(match4)>0)\n",
    "\n",
    "match5 = re.findall(r\"[A-Z]+\", string_validation)\n",
    "print(len(match5)>0)\n",
    "\n"
   ]
  }
 ],
 "metadata": {
  "kernelspec": {
   "display_name": "Python 3",
   "language": "python",
   "name": "python3"
  },
  "language_info": {
   "codemirror_mode": {
    "name": "ipython",
    "version": 3
   },
   "file_extension": ".py",
   "mimetype": "text/x-python",
   "name": "python",
   "nbconvert_exporter": "python",
   "pygments_lexer": "ipython3",
   "version": "3.12.4"
  }
 },
 "nbformat": 4,
 "nbformat_minor": 2
}

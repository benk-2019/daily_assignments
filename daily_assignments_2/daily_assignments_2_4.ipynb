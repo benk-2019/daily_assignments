{
 "cells": [
  {
   "cell_type": "code",
   "execution_count": 5,
   "metadata": {},
   "outputs": [
    {
     "name": "stdout",
     "output_type": "stream",
     "text": [
      "6\n",
      "4\n"
     ]
    }
   ],
   "source": [
    "import re\n",
    "def word_score(*n : str)-> int:\n",
    "    score = 0\n",
    "    for word in n:\n",
    "        num_vowel = len(re.findall(\"[aiouyeAIOUYE]\", word))\n",
    "        if(num_vowel%2 == 0):\n",
    "            score += 2\n",
    "        else:\n",
    "            score += 1\n",
    "\n",
    "    return score\n",
    "\n",
    "\n",
    "print(word_score(\"Apple\", \"Banana\", \"Cart\", \"Terrible\", \"want\"))\n",
    "print(word_score(\"ArithmeticError\", \"AssertionError\"))\n"
   ]
  }
 ],
 "metadata": {
  "kernelspec": {
   "display_name": "Python 3",
   "language": "python",
   "name": "python3"
  },
  "language_info": {
   "codemirror_mode": {
    "name": "ipython",
    "version": 3
   },
   "file_extension": ".py",
   "mimetype": "text/x-python",
   "name": "python",
   "nbconvert_exporter": "python",
   "pygments_lexer": "ipython3",
   "version": "3.12.4"
  }
 },
 "nbformat": 4,
 "nbformat_minor": 2
}

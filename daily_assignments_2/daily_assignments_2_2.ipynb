{
 "cells": [
  {
   "cell_type": "code",
   "execution_count": 91,
   "metadata": {},
   "outputs": [
    {
     "name": "stdout",
     "output_type": "stream",
     "text": [
      "<re.Match object; span=(0, 8), match='12312321'>\n",
      "[]\n",
      "[]\n",
      "['12312321']\n",
      "None\n"
     ]
    }
   ],
   "source": [
    "import re\n",
    "\n",
    "string_input = input(\"Gib me strang: \")\n",
    "match1 = re.search(r\"^\\w+\", string_input)\n",
    "print(match1)\n",
    "\n",
    "match2 = re.findall(r\"\\s\\d\", string_input)\n",
    "print(match2)\n",
    "\n",
    "match3 = re.findall(r\"\\w+[.!?]+$\", string_input)\n",
    "print(match3)\n",
    "\n",
    "match4 = re.findall(r\"[123][123]+\", string_input)\n",
    "print(match4)\n",
    "\n",
    "#gets really weird with find all\n",
    "match5 = re.search(r\"\\b\\w*([a-zA-Z])\\1\\w*\\b\", string_input)\n",
    "print(match5)\n",
    "\n"
   ]
  }
 ],
 "metadata": {
  "kernelspec": {
   "display_name": "Python 3",
   "language": "python",
   "name": "python3"
  },
  "language_info": {
   "codemirror_mode": {
    "name": "ipython",
    "version": 3
   },
   "file_extension": ".py",
   "mimetype": "text/x-python",
   "name": "python",
   "nbconvert_exporter": "python",
   "pygments_lexer": "ipython3",
   "version": "3.12.4"
  }
 },
 "nbformat": 4,
 "nbformat_minor": 2
}

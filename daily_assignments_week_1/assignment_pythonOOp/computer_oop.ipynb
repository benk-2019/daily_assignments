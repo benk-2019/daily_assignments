{
 "cells": [
  {
   "cell_type": "code",
   "execution_count": 33,
   "metadata": {},
   "outputs": [],
   "source": [
    "class ComputerComponent:\n",
    "    def __init__(self, manuf, model, serial_num, price):\n",
    "        self.manuf = manuf\n",
    "        self.model = model\n",
    "        self.serial_num = serial_num\n",
    "        self.price = price\n",
    "\n",
    "    def __str__(self):\n",
    "        return f\"Manufacturer: {self.manuf}\\nModel: {self.model}\\nSerial Number: {self.serial_num}\\nPrice: ${self.price}\\n\"\n",
    "\n",
    "    "
   ]
  },
  {
   "cell_type": "code",
   "execution_count": 34,
   "metadata": {},
   "outputs": [
    {
     "name": "stdout",
     "output_type": "stream",
     "text": [
      "Manufacturer: Asus\n",
      "Model: 1060\n",
      "Serial Number: 6897093121387\n",
      "Price: $199.99\n",
      "\n"
     ]
    }
   ],
   "source": [
    "gtx1060 = ComputerComponent(\"Asus\", \"1060\", 6897093121387, 199.99)\n",
    "print(gtx1060)"
   ]
  },
  {
   "cell_type": "code",
   "execution_count": 35,
   "metadata": {},
   "outputs": [],
   "source": [
    "#Can't put replace in subclasses because:\n",
    "#Computer:\n",
    "#   cpu->CPU... if I go into cpu and set self = other_cpu, then... how does python pass objects? what is self\n",
    "class CPU(ComputerComponent):\n",
    "    def __init__(self, manuf=\"N/A\", model=\"N/A\", ser_num=0, price =0.0, cores=0, freq = 0.0):\n",
    "        self.cores = cores\n",
    "        self.freq = freq\n",
    "        super().__init__(manuf,model, ser_num, price)\n",
    "\n",
    "    def __str__(self):\n",
    "        return super().__str__() + f\"Cores: {self.cores}\\nFrequency: {self.freq}Ghz\\n\"\n",
    "\n",
    "\n",
    "class Memory(ComputerComponent):\n",
    "    def __init__(self, manuf=\"N/A\", model=\"N/A\", ser_num=0, price =0.0, capacity=0.0, freq = 0.0, gen=\"N/A\"):\n",
    "        self.capacity = capacity\n",
    "        self.freq = freq\n",
    "        self.gen = gen\n",
    "        super().__init__(manuf,model, ser_num,price)\n",
    "\n",
    "    def __str__(self):\n",
    "        return super().__str__() + f\"Capacity: {self.capacity}MB\\nFrequency: {self.freq}Mhz\\nGeneration: {self.gen}\\n\"\n",
    "\n",
    "\n",
    "class Storage(ComputerComponent):\n",
    "    def __init__(self, manuf=\"N/A\", model=\"N/A\", ser_num=0, price =0.0, capacity=0, bus=\"N/A\"):\n",
    "        self.capacity = capacity\n",
    "        self.bus = bus\n",
    "        super().__init__(manuf,model, ser_num,price)\n",
    "\n",
    "    def __str__(self):\n",
    "        return super().__str__() + f\"Capacity: {self.capacity}GB\\nBus: {self.bus}\\n\"\n"
   ]
  },
  {
   "cell_type": "code",
   "execution_count": 36,
   "metadata": {},
   "outputs": [
    {
     "name": "stdout",
     "output_type": "stream",
     "text": [
      "Manufacturer: AMD\n",
      "Model: 1600\n",
      "Serial Number: 526173890\n",
      "Price: $109.99\n",
      "Cores: 6\n",
      "Frequency: 3.2Ghz\n",
      "\n"
     ]
    }
   ],
   "source": [
    "amd1600 = CPU(\"AMD\", \"1600\", 526173890, 109.99, 6 , 3.2)\n",
    "print(amd1600)"
   ]
  },
  {
   "cell_type": "code",
   "execution_count": 44,
   "metadata": {},
   "outputs": [],
   "source": [
    "class Computer():\n",
    "    def __init__(self, cpu, mem, storage):\n",
    "        if type(cpu) != CPU:\n",
    "            raise TypeError(\"CPU is not of type CPU!!!\")\n",
    "        self.__cpu = cpu\n",
    "        if type(mem) != Memory:\n",
    "            raise TypeError(\"Memory is not of type Memory!!!\")\n",
    "        self.__mem = mem\n",
    "        if type(storage) != Storage:\n",
    "            raise TypeError(\"Storage is not of type Storage!!!\")\n",
    "        self.__storage = storage\n",
    "\n",
    "    def get_cpu(self):\n",
    "        return self.__cpu\n",
    "    \n",
    "    def get_mem(self):\n",
    "        return self.__mem\n",
    "    \n",
    "    def get_storage(self):\n",
    "        return self.__storage\n",
    "\n",
    "    def __str__(self):\n",
    "        return self.__cpu.__str__() + \"\\n\" + self.__mem.__str__() + \"\\n\" + self.__storage.__str__()\n",
    "\n",
    "    def replace(self, component):\n",
    "        if type(component) == CPU:\n",
    "            self.__cpu = component\n",
    "        elif type(component) == Memory:\n",
    "            self.__mem = component\n",
    "        elif type(component) == Storage:\n",
    "            self.__storage = component\n",
    "        else:\n",
    "            raise TypeError(\"The component you are trying to place isn't a type of component in the system\")\n",
    "\n",
    "\n",
    "      \n",
    "    def get_details(self, component):\n",
    "        typ = type(component)\n",
    "        if typ == CPU | typ == Storage| typ == Memory:\n",
    "            component.__str__()\n",
    "        else:\n",
    "            raise TypeError(\"The component you are trying to get details on isn't a type of component in the system\")\n",
    "\n",
    "    "
   ]
  },
  {
   "cell_type": "code",
   "execution_count": 45,
   "metadata": {},
   "outputs": [
    {
     "name": "stdout",
     "output_type": "stream",
     "text": [
      "Manufacturer: AMD\n",
      "Model: 1600\n",
      "Serial Number: 27348905\n",
      "Price: $109.99\n",
      "Cores: 6\n",
      "Frequency: 3.2Ghz\n",
      "\n",
      "Manufacturer: G.Skill\n",
      "Model: Raptor 2x8\n",
      "Serial Number: 8790324990\n",
      "Price: $63.99\n",
      "Capacity: 16MB\n",
      "Frequency: 2933.0Mhz\n",
      "Generation: DDR4\n",
      "\n",
      "Manufacturer: Seagate\n",
      "Model: Teracuda 1TB\n",
      "Serial Number: 42375869080\n",
      "Price: $49.99\n",
      "Capacity: 1000GB\n",
      "Bus: Sata 6\n",
      "\n"
     ]
    }
   ],
   "source": [
    "cpu = CPU(\"AMD\", \"1600\", 27348905, 109.99, 6, 3.2)\n",
    "memory = Memory(\"G.Skill\", \"Raptor 2x8\", 8790324990, 63.99, 16, 2933., \"DDR4\")\n",
    "storage = Storage(\"Seagate\", \"Teracuda 1TB\", 42375869080, 49.99, 1000, \"Sata 6\")\n",
    "ben_comp = Computer(cpu, memory, storage)\n",
    "#print(ben_comp)\n",
    "components = [ben_comp.get_cpu(), ben_comp.get_mem(), ben_comp.get_storage()]\n",
    "for x in components:\n",
    "    print(x)\n"
   ]
  },
  {
   "cell_type": "code",
   "execution_count": 46,
   "metadata": {},
   "outputs": [
    {
     "name": "stdout",
     "output_type": "stream",
     "text": [
      "Manufacturer: Intel\n",
      "Model: i7-13100\n",
      "Serial Number: 98708762234\n",
      "Price: $259.99\n",
      "Cores: 12\n",
      "Frequency: 5.2Ghz\n",
      "\n",
      "Manufacturer: G.Skill\n",
      "Model: Neo RGB 2x8\n",
      "Serial Number: 45339809807\n",
      "Price: $103.99\n",
      "Capacity: 16.0MB\n",
      "Frequency: 4200.0Mhz\n",
      "Generation: DDR5\n",
      "\n",
      "Manufacturer: Samsung\n",
      "Model: 990 1TB\n",
      "Serial Number: 437829140\n",
      "Price: $99.99\n",
      "Capacity: 1000GB\n",
      "Bus: m.2\n",
      "\n"
     ]
    }
   ],
   "source": [
    "cpu = CPU(\"Intel\", \"i7-13100\", 98708762234, 259.99,12, 5.2)\n",
    "memory = Memory(\"G.Skill\", \"Neo RGB 2x8\", 45339809807, 103.99,16., 4200., \"DDR5\")\n",
    "storage = Storage(\"Samsung\", \"990 1TB\", 437829140, 99.99, 1000, \"m.2\")\n",
    "\n",
    "ben_comp.replace(cpu)\n",
    "ben_comp.replace(memory)\n",
    "ben_comp.replace(storage)\n",
    "\n",
    "#print(ben_comp)\n",
    "\n",
    "\n",
    "components = [ben_comp.get_cpu(), ben_comp.get_mem(), ben_comp.get_storage()]\n",
    "for x in components:\n",
    "    print(x)"
   ]
  }
 ],
 "metadata": {
  "kernelspec": {
   "display_name": ".venv",
   "language": "python",
   "name": "python3"
  },
  "language_info": {
   "codemirror_mode": {
    "name": "ipython",
    "version": 3
   },
   "file_extension": ".py",
   "mimetype": "text/x-python",
   "name": "python",
   "nbconvert_exporter": "python",
   "pygments_lexer": "ipython3",
   "version": "3.12.4"
  }
 },
 "nbformat": 4,
 "nbformat_minor": 2
}

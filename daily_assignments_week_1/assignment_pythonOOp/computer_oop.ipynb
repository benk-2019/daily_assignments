{
 "cells": [
  {
   "cell_type": "code",
   "execution_count": 132,
   "metadata": {},
   "outputs": [],
   "source": [
    "class ComputerComponent:\n",
    "    def __init__(self, manuf, model, serial_num, price):\n",
    "        self.manuf = manuf\n",
    "        self.model = model\n",
    "        self.serial_num = serial_num\n",
    "        self.price = price\n",
    "\n",
    "    def display_details(self):\n",
    "        print(\"Manufacturer: \" + self.manuf)\n",
    "        print(\"Model: \" + self.model) \n",
    "        print(\"Serial Number: \" + str(self.serial_num))\n",
    "        print(\"Price: $\" + str(self.price))\n",
    "\n",
    "    "
   ]
  },
  {
   "cell_type": "code",
   "execution_count": 133,
   "metadata": {},
   "outputs": [
    {
     "name": "stdout",
     "output_type": "stream",
     "text": [
      "Manufacturer: Asus\n",
      "Model: 1060\n",
      "Serial Number: 6897093121387\n",
      "Price: $199.99\n"
     ]
    }
   ],
   "source": [
    "gtx1060 = ComputerComponent(\"Asus\", \"1060\", 6897093121387, 199.99)\n",
    "gtx1060.display_details()"
   ]
  },
  {
   "cell_type": "code",
   "execution_count": 134,
   "metadata": {},
   "outputs": [],
   "source": [
    "#Can't put replace in subclasses because:\n",
    "#Computer:\n",
    "#   cpu->CPU... if I go into cpu and set self = other_cpu, then... how does python pass objects? what is self\n",
    "\n",
    "\n",
    "\n",
    "\n",
    "class CPU(ComputerComponent):\n",
    "    def __init__(self, manuf, model, serial_num, price, freq, cores, l1_cache, l2_cache):\n",
    "        if type(freq) != float:\n",
    "            raise TypeError(\"Your frequency should be a float and measured in Ghz\")\n",
    "        self.freq = freq\n",
    "        if type(cores) != int:\n",
    "            raise TypeError(\"Cores should be int\")\n",
    "        self.cores = cores\n",
    "        if type(l1_cache) != float:\n",
    "            raise TypeError(\"l1_cache should be float and measured in MB\")\n",
    "        self.l1_cache = l1_cache\n",
    "        if type(l2_cache) != float:\n",
    "            raise TypeError(\"l2_cache should be float and measured in MB\")\n",
    "        self.l2_cache = l2_cache\n",
    "        super().__init__(manuf, model, serial_num, price)\n",
    "\n",
    "    def display_details(self):\n",
    "        super().display_details()\n",
    "        print(\"Frequency: \" + str(self.freq) + \"Ghz\")\n",
    "        print(\"Cores: \" + str(self.cores))\n",
    "        print(\"L1 Cache: \" + str(self.l1_cache) + \"MB\")\n",
    "        print(\"L2 Cache: \" + str(self.l2_cache) + \"MB\")\n",
    "\n",
    "\n",
    "class Memory(ComputerComponent):\n",
    "    def __init__(self, manuf, model, serial_num, price, freq, capacity, gen):\n",
    "        if type(freq) != float:\n",
    "            raise TypeError(\"Your frequency should be a float and measured in Mhz\")\n",
    "        self.freq = freq\n",
    "        if type(capacity) != float:\n",
    "            raise TypeError(\"Capacity should be float measured in GB\")\n",
    "        self.capacity = capacity\n",
    "        if type(gen) !=  str:\n",
    "            raise TypeError(\"Gen refers to the DDR gen(DDR, DDR2...) and should be input as a string\")\n",
    "        self.gen = gen\n",
    "        super().__init__(manuf, model, serial_num, price)\n",
    "\n",
    "    def display_details(self):\n",
    "        super().display_details()\n",
    "        print(\"Frequency: \" + str(self.freq) + \"Mhz\")\n",
    "        print(\"Capcity: \" + str(self.capacity) + \"GB\")\n",
    "        print(\"Generation: \" + self.gen)\n",
    "\n",
    "    \n",
    "\n",
    "class Storage(ComputerComponent):\n",
    "    def __init__(self, manuf, model, serial_num, price, space, bus):\n",
    "        if type(space) != int:\n",
    "            raise TypeError(\"Capacity should be int measured in GB\")\n",
    "        self.space = space\n",
    "        if type(bus) != str:\n",
    "            raise TypeError(\"Bus type should be the bus the storage uses(m.2, sata 6...) input as a string\")\n",
    "        self.bus = bus\n",
    "        super().__init__(manuf, model, serial_num, price)\n",
    "\n",
    "    def display_details(self):\n",
    "        super().display_details()\n",
    "        print(\"Storage Space: \" + str(self.space) + \"GB\")\n",
    "        print(\"Bus Type: \" + self.bus)\n"
   ]
  },
  {
   "cell_type": "code",
   "execution_count": 135,
   "metadata": {},
   "outputs": [
    {
     "name": "stdout",
     "output_type": "stream",
     "text": [
      "Manufacturer: AMD\n",
      "Model: 1600\n",
      "Serial Number: 526173890\n",
      "Price: $109.99\n",
      "Frequency: 3.2Ghz\n",
      "Cores: 6\n",
      "L1 Cache: 16.0MB\n",
      "L2 Cache: 32.0MB\n"
     ]
    }
   ],
   "source": [
    "amd1600 = CPU(\"AMD\", \"1600\", 526173890, 109.99, 3.2, 6, 16., 32.)\n",
    "amd1600.display_details()"
   ]
  },
  {
   "cell_type": "code",
   "execution_count": 136,
   "metadata": {},
   "outputs": [],
   "source": [
    "class Computer:\n",
    "    def __init__(self, cpu, mem, storage):\n",
    "        self.cpu = cpu\n",
    "        self.mem = mem\n",
    "        self.storage = storage\n",
    "\n",
    "    def display_components(self):\n",
    "        print(\"CPU: \")\n",
    "        self.cpu.display_details()\n",
    "        print()\n",
    "        print(\"Memory: \")\n",
    "        self.mem.display_details()\n",
    "        print()\n",
    "        print(\"Storage: \")\n",
    "        self.storage.display_details()\n",
    "\n",
    "    def replace_cpu(self, cpu):\n",
    "        if type(cpu) != CPU:\n",
    "            raise TypeError(\"You have to replace a CPU with another CPU\")\n",
    "        \n",
    "        self.cpu = cpu\n",
    "\n",
    "    def replace_memory(self, mem):\n",
    "        if type(mem) != Memory:\n",
    "            raise TypeError(\"You have to replace memory with memory\")\n",
    "        \n",
    "        self.mem = mem\n",
    "\n",
    "    def replace_storage(self, storage):\n",
    "        if type(storage) != Storage:\n",
    "            raise TypeError(\"You have to replace storage with storage\")\n",
    "        \n",
    "        self.storage = storage\n",
    "\n",
    "    "
   ]
  },
  {
   "cell_type": "code",
   "execution_count": 137,
   "metadata": {},
   "outputs": [
    {
     "name": "stdout",
     "output_type": "stream",
     "text": [
      "CPU: \n",
      "Manufacturer: AMD\n",
      "Model: 1600\n",
      "Serial Number: 27348905\n",
      "Price: $109.99\n",
      "Frequency: 3.2Ghz\n",
      "Cores: 6\n",
      "L1 Cache: 16.0MB\n",
      "L2 Cache: 32.0MB\n",
      "\n",
      "Memory: \n",
      "Manufacturer: G.Skill\n",
      "Model: Raptor 2x8\n",
      "Serial Number: 8790324990\n",
      "Price: $63.99\n",
      "Frequency: 2933.0Mhz\n",
      "Capcity: 16.0GB\n",
      "Generation: DDR4\n",
      "\n",
      "Storage: \n",
      "Manufacturer: Seagate\n",
      "Model: Teracuda 1TB\n",
      "Serial Number: 42375869080\n",
      "Price: $49.99\n",
      "Storage Space: 1000GB\n",
      "Bus Type: Sata 6\n"
     ]
    }
   ],
   "source": [
    "cpu = CPU(\"AMD\", \"1600\", 27348905, 109.99, 3.2, 6, 16., 32.)\n",
    "memory = Memory(\"G.Skill\", \"Raptor 2x8\", 8790324990, 63.99, 2933., 16., \"DDR4\")\n",
    "storage = Storage(\"Seagate\", \"Teracuda 1TB\", 42375869080, 49.99, 1000, \"Sata 6\")\n",
    "ben_comp = Computer(cpu, memory, storage)\n",
    "ben_comp.display_components()"
   ]
  },
  {
   "cell_type": "code",
   "execution_count": 138,
   "metadata": {},
   "outputs": [
    {
     "name": "stdout",
     "output_type": "stream",
     "text": [
      "CPU: \n",
      "Manufacturer: Intel\n",
      "Model: i7-13100\n",
      "Serial Number: 98708762234\n",
      "Price: $259.99\n",
      "Frequency: 5.2Ghz\n",
      "Cores: 12\n",
      "L1 Cache: 24.0MB\n",
      "L2 Cache: 48.0MB\n",
      "\n",
      "Memory: \n",
      "Manufacturer: G.Skill\n",
      "Model: Neo RGB 2x8\n",
      "Serial Number: 45339809807\n",
      "Price: $103.99\n",
      "Frequency: 4200.0Mhz\n",
      "Capcity: 16.0GB\n",
      "Generation: DDR5\n",
      "\n",
      "Storage: \n",
      "Manufacturer: Samsung\n",
      "Model: 990 1TB\n",
      "Serial Number: 437829140\n",
      "Price: $99.99\n",
      "Storage Space: 1000GB\n",
      "Bus Type: m.2\n"
     ]
    }
   ],
   "source": [
    "cpu = CPU(\"Intel\", \"i7-13100\", 98708762234, 259.99, 5.2, 12, 24., 48.)\n",
    "memory = Memory(\"G.Skill\", \"Neo RGB 2x8\", 45339809807, 103.99, 4200., 16., \"DDR5\")\n",
    "storage = Storage(\"Samsung\", \"990 1TB\", 437829140, 99.99, 1000, \"m.2\")\n",
    "\n",
    "ben_comp.replace_cpu(cpu)\n",
    "ben_comp.replace_memory(memory)\n",
    "ben_comp.replace_storage(storage)\n",
    "\n",
    "ben_comp.display_components()"
   ]
  }
 ],
 "metadata": {
  "kernelspec": {
   "display_name": ".venv",
   "language": "python",
   "name": "python3"
  },
  "language_info": {
   "codemirror_mode": {
    "name": "ipython",
    "version": 3
   },
   "file_extension": ".py",
   "mimetype": "text/x-python",
   "name": "python",
   "nbconvert_exporter": "python",
   "pygments_lexer": "ipython3",
   "version": "3.12.4"
  }
 },
 "nbformat": 4,
 "nbformat_minor": 2
}

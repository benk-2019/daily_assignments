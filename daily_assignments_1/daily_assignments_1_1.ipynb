{
 "cells": [
  {
   "cell_type": "code",
   "execution_count": 9,
   "metadata": {},
   "outputs": [
    {
     "name": "stdout",
     "output_type": "stream",
     "text": [
      "Today is: 2024-06-17\n",
      "There are 206 days left till my birthday\n"
     ]
    }
   ],
   "source": [
    "import datetime\n",
    "\n",
    "birthday = 9\n",
    "birthmonth = 1\n",
    "irl = datetime.datetime.now()\n",
    "date = irl.strftime(\"%Y-%m-%d\")\n",
    "print(\"Today is: \" + str(date))\n",
    "\n",
    "month = int(irl.strftime(\"%m\"))\n",
    "day = int(irl.strftime(\"%d\"))\n",
    "day_left = 0\n",
    "\n",
    "calander = {\n",
    "    1 : 31,\n",
    "    2 : 28,\n",
    "    3 : 31,\n",
    "    4 : 30,\n",
    "    5 : 31,\n",
    "    6 : 30,\n",
    "    7 : 31,\n",
    "    8 : 31,\n",
    "    9 : 30,\n",
    "    10 : 31,\n",
    "    11 : 30,\n",
    "    12 : 31\n",
    "}\n",
    "\n",
    "birthday_365 = 0\n",
    "i = 1\n",
    "while(i < birthmonth):\n",
    "    birthday_365 += calander[i]\n",
    "    i = i + 1\n",
    "\n",
    "\n",
    "birthday_365 += birthday\n",
    "\n",
    "day_365 = 0\n",
    "i = 1\n",
    "while(i<month):\n",
    "    day_365 += calander[i]\n",
    "    i = i+1\n",
    "\n",
    "day_365 += day\n",
    "\n",
    "if(birthday_365 >= day_365):\n",
    "    print(\"There are \" + str(birthday_365-day_365) + \" days left till my birthday\")\n",
    "else:\n",
    "    print(\"There are \" + str(birthday_365 + (365-day_365)) + \" days left till my birthday\")"
   ]
  }
 ],
 "metadata": {
  "kernelspec": {
   "display_name": "Python 3",
   "language": "python",
   "name": "python3"
  },
  "language_info": {
   "codemirror_mode": {
    "name": "ipython",
    "version": 3
   },
   "file_extension": ".py",
   "mimetype": "text/x-python",
   "name": "python",
   "nbconvert_exporter": "python",
   "pygments_lexer": "ipython3",
   "version": "3.12.4"
  }
 },
 "nbformat": 4,
 "nbformat_minor": 2
}

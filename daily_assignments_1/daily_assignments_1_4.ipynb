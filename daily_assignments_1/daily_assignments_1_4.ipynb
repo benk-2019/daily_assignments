{
 "cells": [
  {
   "cell_type": "code",
   "execution_count": 3,
   "metadata": {},
   "outputs": [
    {
     "name": "stdout",
     "output_type": "stream",
     "text": [
      "[1, 2, 3, 54, 56, 7, 8, 9, 4, 67]\n",
      "[1, 2, 3, 54, 56, 7, 8, 9, 4, 67, 66]\n",
      "[1, 2, 3, 56, 7, 8, 9, 4, 67, 66]\n",
      "[1, 2, 3, 4, 7, 8, 9, 56, 66, 67]\n"
     ]
    }
   ],
   "source": [
    "integers = [1,2,3,54,56,7,8,9,4,67]\n",
    "print(integers)\n",
    "\n",
    "integers.append(66)\n",
    "print(integers)\n",
    "\n",
    "integers.remove(54)\n",
    "print(integers)\n",
    "\n",
    "integers.sort()\n",
    "print(integers)"
   ]
  }
 ],
 "metadata": {
  "kernelspec": {
   "display_name": "Python 3",
   "language": "python",
   "name": "python3"
  },
  "language_info": {
   "codemirror_mode": {
    "name": "ipython",
    "version": 3
   },
   "file_extension": ".py",
   "mimetype": "text/x-python",
   "name": "python",
   "nbconvert_exporter": "python",
   "pygments_lexer": "ipython3",
   "version": "3.12.4"
  }
 },
 "nbformat": 4,
 "nbformat_minor": 2
}

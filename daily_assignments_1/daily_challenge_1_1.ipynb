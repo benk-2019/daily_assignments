{
 "cells": [
  {
   "cell_type": "code",
   "execution_count": 7,
   "metadata": {},
   "outputs": [
    {
     "name": "stdout",
     "output_type": "stream",
     "text": [
      "[1, 4, 9, 16, 25, 36, 49, 64, 81, 100]\n",
      "[4, 16, 36, 64, 100]\n",
      "{1: 1, 2: 4, 3: 9, 4: 16, 5: 25, 6: 36, 7: 49, 8: 64, 9: 81, 10: 100}\n"
     ]
    }
   ],
   "source": [
    "list_of_squares = [n**2 for n in range(1,11)]\n",
    "print(list_of_squares)\n",
    "\n",
    "list_of_even_squares = [even for even in list_of_squares if(even%2 == 0)]\n",
    "print(list_of_even_squares)\n",
    "\n",
    "list_of_nums = [x for x in range(1,11)]\n",
    "\n",
    "dict_of_two_lists = {list_of_nums[i] : list_of_squares[i] for i in range(0,10)}\n",
    "print(dict_of_two_lists)"
   ]
  }
 ],
 "metadata": {
  "kernelspec": {
   "display_name": "Python 3",
   "language": "python",
   "name": "python3"
  },
  "language_info": {
   "codemirror_mode": {
    "name": "ipython",
    "version": 3
   },
   "file_extension": ".py",
   "mimetype": "text/x-python",
   "name": "python",
   "nbconvert_exporter": "python",
   "pygments_lexer": "ipython3",
   "version": "3.12.4"
  }
 },
 "nbformat": 4,
 "nbformat_minor": 2
}

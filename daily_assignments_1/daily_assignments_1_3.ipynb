{
 "cells": [
  {
   "cell_type": "code",
   "execution_count": 8,
   "metadata": {},
   "outputs": [
    {
     "name": "stdout",
     "output_type": "stream",
     "text": [
      "['This', 'is', 'a', 'list', 'of', 'words', 'in', 'a', 'single', 'string']\n",
      "This|is|a|list|of|words|in|a|single|string\n",
      "3\n"
     ]
    }
   ],
   "source": [
    "string = \"This is a list of words in a single string\"\n",
    "list_of_words = string.split()\n",
    "print(list_of_words)\n",
    "pipe_string = \"\"\n",
    "for word in  list_of_words:\n",
    "    pipe_string  = pipe_string + word + \"|\"\n",
    "\n",
    "pipe_string = pipe_string.strip(\"|\")\n",
    "print(pipe_string)\n",
    "\n",
    "num_n = 0\n",
    "for n in pipe_string:\n",
    "    if n == \"n\":\n",
    "        num_n = num_n+1\n",
    "\n",
    "print(num_n)"
   ]
  }
 ],
 "metadata": {
  "kernelspec": {
   "display_name": "Python 3",
   "language": "python",
   "name": "python3"
  },
  "language_info": {
   "codemirror_mode": {
    "name": "ipython",
    "version": 3
   },
   "file_extension": ".py",
   "mimetype": "text/x-python",
   "name": "python",
   "nbconvert_exporter": "python",
   "pygments_lexer": "ipython3",
   "version": "3.12.4"
  }
 },
 "nbformat": 4,
 "nbformat_minor": 2
}

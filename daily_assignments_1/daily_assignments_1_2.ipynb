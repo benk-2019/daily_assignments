{
 "cells": [
  {
   "cell_type": "code",
   "execution_count": 10,
   "metadata": {},
   "outputs": [
    {
     "name": "stdout",
     "output_type": "stream",
     "text": [
      "{'Jake': 'B-', 'Emily': 'C+', 'Tim': 'A-'}\n",
      "{'Jake': 'B-', 'Emily': 'C+', 'Tim': 'A-', 'Kim': 'B'}\n",
      "{'Jake': {1: 'Science', 2: 'Literature', 3: 'Art'}, 'Emily': {1: 'Physical Education', 2: 'Math', 3: 'Art'}, 'Tim': {1: 'Physical Education', 2: 'Literature', 3: 'History'}, 'Kim': {1: 'Science', 2: 'Math', 3: 'History'}}\n",
      "{'Jake', 'Tim', 'Emily', 'Kim'}\n"
     ]
    }
   ],
   "source": [
    "students = {\n",
    "    \"Jake\" : \"B-\",\n",
    "    \"Emily\" : \"C+\",\n",
    "    \"Tim\" : \"A-\"\n",
    "}\n",
    "print(students)\n",
    "\n",
    "students.update({\"Kim\" : \"B\"})\n",
    "print(students)\n",
    "\n",
    "\n",
    "students.update({\"Jake\" : {\n",
    "        1:\"Science\",\n",
    "        2:\"Literature\",\n",
    "        3:\"Art\"\n",
    "    }})\n",
    "students.update({\"Emily\" : {\n",
    "        1: \"Physical Education\",\n",
    "        2: \"Math\",\n",
    "        3: \"Art\"\n",
    "    }})\n",
    "students.update({\"Tim\" : {\n",
    "        1: \"Physical Education\",\n",
    "        2: \"Literature\",\n",
    "        3: \"History\"\n",
    "    }})\n",
    "students.update({\"Kim\" : {\n",
    "        1: \"Science\",\n",
    "        2: \"Math\",\n",
    "        3: \"History\"\n",
    "    }})\n",
    "print(students)\n",
    "\n",
    "student_names = set()\n",
    "for k in students.keys():\n",
    "    student_names.add(k)\n",
    "\n",
    "print(student_names)"
   ]
  }
 ],
 "metadata": {
  "kernelspec": {
   "display_name": "Python 3",
   "language": "python",
   "name": "python3"
  },
  "language_info": {
   "codemirror_mode": {
    "name": "ipython",
    "version": 3
   },
   "file_extension": ".py",
   "mimetype": "text/x-python",
   "name": "python",
   "nbconvert_exporter": "python",
   "pygments_lexer": "ipython3",
   "version": "3.12.4"
  }
 },
 "nbformat": 4,
 "nbformat_minor": 2
}
